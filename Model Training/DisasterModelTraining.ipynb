{
 "cells": [
  {
   "cell_type": "markdown",
   "metadata": {},
   "source": [
    "# Quickstart Guide\n",
    "This notebook will guide you to train the Disaster Detection model with 3 classes Earthquake,Flood and Wildfire using Vision Transformer\n",
    "\n",
    "**Note**: The easiest way to train the model is in Google Colab or Kaggle, which allows you to dive in with no setup. We recommend you enable the GPU runtime to train the model efficiently\n",
    "\n",
    "**Note**: You need to have at least Python 3.6 to run the scripts.\n",
    "\n",
    "## Install HugsVision\n",
    "\n",
    "First we install HugsVision if needed. "
   ]
  },
  {
   "cell_type": "markdown",
   "metadata": {},
   "source": [
    "try:\n",
    "    import hugsvision\n",
    "except:\n",
    "    !pip install -q hugsvision\n",
    "    import hugsvision\n",
    "    \n",
    "print(hugsvision.__version__)"
   ]
  },
  {
   "cell_type": "markdown",
   "metadata": {},
   "source": [
    "## Downloading Data\n",
    "\n",
    "First, we need to download the dataset called `Disaster Images Dataset` [here](https://www.kaggle.com/datasets/mikolajbabula/disaster-images-dataset-cnn-model/code) which weight around ~3 GB."
   ]
  },
  {
   "cell_type": "markdown",
   "metadata": {},
   "source": [
    "## Loading Data\n",
    "\n",
    "Once it has been converted, we can start loading the data."
   ]
  },
  {
   "cell_type": "code",
   "execution_count": null,
   "metadata": {},
   "outputs": [],
   "source": [
    "from hugsvision.dataio.VisionDataset import VisionDataset\n",
    "\n",
    "train,test,id2label, label2id = VisionDataset.fromImageFolder(\n",
    "  \"./dataset/\",\n",
    "  test_ratio   = 0.15,\n",
    "  balanced     = True,\n",
    "  augmentation = True,\n",
    ")"
   ]
  },
  {
   "cell_type": "markdown",
   "metadata": {},
   "source": [
    "## Choose a image classifier model on HuggingFace\n",
    "\n",
    "Now we can choose our base model on which we will perform a fine-tuning to make it fit our needs.\n",
    "\n",
    "Our choices aren't very large since we haven't a lot of model available yet on HuggingFace for this task.\n",
    "\n",
    "So, to be sure that the model will be compatible with `HugsVision` we need to have a model exported in `PyTorch` and compatible with the `image-classification` task obviously.\n",
    "\n",
    "Models available with this criterion: [here](https://huggingface.co/models?filter=pytorch&pipeline_tag=image-classification&sort=downloads)\n",
    "\n",
    "At the time I'am writing this, I recommend to use the following models:\n",
    "\n",
    "* `google/vit-base-patch16-224-in21k`\n",
    "* `google/vit-base-patch16-224`\n",
    "* `facebook/deit-base-distilled-patch16-224`\n",
    "* `microsoft/beit-base-patch16-224`\n",
    "\n",
    "**Note:** Please specify `ignore_mismatched_sizes=True` for both `model` and `feature_extractor` if you aren't using the following model."
   ]
  },
  {
   "cell_type": "code",
   "execution_count": null,
   "metadata": {},
   "outputs": [],
   "source": [
    "huggingface_model = 'google/vit-base-patch16-224'"
   ]
  },
  {
   "cell_type": "markdown",
   "metadata": {},
   "source": [
    "## Train the model\n",
    "\n",
    "So, once the model choosen, we can start building the `Trainer` and start the fine-tuning.\n",
    "\n",
    "**Note**: Import the `FeatureExtractor` and `ForImageClassification` according to your previous choice."
   ]
  },
  {
   "cell_type": "code",
   "execution_count": null,
   "metadata": {},
   "outputs": [],
   "source": [
    "from hugsvision.nnet.VisionClassifierTrainer import VisionClassifierTrainer\n",
    "from transformers import ViTFeatureExtractor, ViTForImageClassification\n",
    "\n",
    "trainer = VisionClassifierTrainer(\n",
    "\tmodel_name   = \"MyDisasterModel\",\n",
    "\ttrain        = train,\n",
    "\ttest         = test,\n",
    "\toutput_dir   = \"./out/\",\n",
    "\tmax_epochs   = 15,\n",
    "\tbatch_size   = 32, \n",
    "\tlr\t     = 2e-5,\n",
    "\tfp16\t     = True,\n",
    "\tmodel = ViTForImageClassification.from_pretrained(\n",
    "\t    huggingface_model,\n",
    "\t    num_labels = len(label2id),\n",
    "\t    label2id   = label2id,\n",
    "\t    id2label   = id2label,\n",
    "        ignore_mismatched_sizes=True\n",
    "\t),\n",
    "\tfeature_extractor = ViTFeatureExtractor.from_pretrained(\n",
    "\t\thuggingface_model, ignore_mismatched_sizes=True\n",
    "\t),\n",
    ")"
   ]
  },
  {
   "cell_type": "markdown",
   "metadata": {},
   "source": [
    "## Evaluate F1-Score\n",
    "\n",
    "Using the F1-Score metrics will allow us to get a better representation of predictions for all the labels and find out if their are any anomalies wit ha specific label."
   ]
  },
  {
   "cell_type": "code",
   "execution_count": null,
   "metadata": {},
   "outputs": [],
   "source": [
    "hyp, ref = trainer.evaluate_f1_score()"
   ]
  },
  {
   "cell_type": "markdown",
   "metadata": {},
   "source": [
    "## Make a prediction\n",
    "\n",
    "Rename the `./out/MODEL_PATH/config.json` file present in the model output to `./out/MODEL_PATH/preprocessor_config.json`"
   ]
  },
  {
   "cell_type": "code",
   "execution_count": null,
   "metadata": {},
   "outputs": [],
   "source": [
    "import os.path\n",
    "from transformers import ViTFeatureExtractor, ViTForImageClassification\n",
    "from hugsvision.inference.VisionClassifierInference import VisionClassifierInference\n",
    "\n",
    "path1 = \"./out/MyDisasterModel/10_2024-03-22-00-08-07/feature_extractor/\"\n",
    "path2 = \"./out/MyDisasterModel/10_2024-03-22-00-08-07/model/\"\n",
    "img  = \"C:/Users/rohan/OneDrive/Desktop/DisasterManage/Disaster-Management/Disasterpics/china-earthquake-21.jpg\"\n",
    "\n",
    "classifier = VisionClassifierInference(\n",
    "    feature_extractor = ViTFeatureExtractor.from_pretrained(path1),\n",
    "    model = ViTForImageClassification.from_pretrained(path2),\n",
    ")\n",
    "\n",
    "label = classifier.predict(img_path=img)\n",
    "print(\"Predicted class:\", label)"
   ]
  }
 ],
 "metadata": {
  "kernelspec": {
   "display_name": "Python 3",
   "language": "python",
   "name": "python3"
  },
  "language_info": {
   "codemirror_mode": {
    "name": "ipython",
    "version": 3
   },
   "file_extension": ".py",
   "mimetype": "text/x-python",
   "name": "python",
   "nbconvert_exporter": "python",
   "pygments_lexer": "ipython3",
   "version": "3.11.0"
  }
 },
 "nbformat": 4,
 "nbformat_minor": 2
}
